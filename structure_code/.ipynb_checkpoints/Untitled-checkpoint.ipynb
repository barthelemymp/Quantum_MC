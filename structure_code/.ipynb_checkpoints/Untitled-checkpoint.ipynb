{
<<<<<<< HEAD
 "cells": [
  {
   "cell_type": "code",
   "execution_count": 1,
   "metadata": {},
   "outputs": [],
   "source": [
    "import numpy as np\n",
    "import numpy.random as rnd\n",
    "#import cv2\n",
    "import matplotlib.pyplot as plt\n",
    "import localclassnew as lc\n",
    "import matplotlib.animation as animation\n"
   ]
  },
  {
   "cell_type": "code",
   "execution_count": null,
   "metadata": {},
   "outputs": [],
   "source": []
  },
  {
   "cell_type": "code",
   "execution_count": null,
   "metadata": {},
   "outputs": [],
   "source": []
  },
  {
   "cell_type": "code",
   "execution_count": 7,
   "metadata": {},
   "outputs": [
    {
     "name": "stdout",
     "output_type": "stream",
     "text": [
      "bla\n",
      "bla\n",
      "bla\n",
      "bla\n",
      "bla\n",
      "bla\n",
      "bla\n",
      "bla\n",
      "bla\n",
      "bla\n"
     ]
    },
    {
     "name": "stderr",
     "output_type": "stream",
     "text": [
      "Traceback (most recent call last):\n",
      "  File \"C:\\ProgramData\\Anaconda3\\lib\\site-packages\\matplotlib\\cbook\\__init__.py\", line 388, in process\n",
      "    proxy(*args, **kwargs)\n",
      "  File \"C:\\ProgramData\\Anaconda3\\lib\\site-packages\\matplotlib\\cbook\\__init__.py\", line 228, in __call__\n",
      "    return mtd(*args, **kwargs)\n",
      "  File \"C:\\ProgramData\\Anaconda3\\lib\\site-packages\\matplotlib\\animation.py\", line 1081, in _start\n",
      "    self._init_draw()\n",
      "  File \"C:\\ProgramData\\Anaconda3\\lib\\site-packages\\matplotlib\\animation.py\", line 1792, in _init_draw\n",
      "    self._draw_frame(next(self.new_frame_seq()))\n",
      "  File \"C:\\ProgramData\\Anaconda3\\lib\\site-packages\\matplotlib\\animation.py\", line 1814, in _draw_frame\n",
      "    self._drawn_artists = self._func(framedata, *self._args)\n",
      "  File \"<ipython-input-7-9598ed9bdb22>\", line 48, in do_mc_cycle\n",
      "    e += state.total_energy()\n",
      "UnboundLocalError: local variable 'e' referenced before assignment\n"
     ]
    }
   ],
   "source": [
    "%matplotlib tk\n",
    "\n",
    "\n",
    "n_warmup=100\n",
    "n_cycles = 200\n",
    "length_cycle = 10\n",
    "\n",
    "m_trotter = 3\n",
    "dtau = 1/m_trotter\n",
    "n_spins = 4\n",
    "Jx =1 \n",
    "Jz = 1\n",
    "\n",
    "nt = 200\n",
    "\n",
    "\n",
    "state = lc.States(m_trotter, dtau, n_spins,Jx, Jz)\n",
    "for i in range(30):\n",
    "    state.stoch_move_forced(0.5)\n",
    "\n",
    "energsum = state.total_energy()\n",
    "nm=1\n",
    "meanenrg = [state.total_energy()]\n",
    "steps = [0]\n",
    "\n",
    "# init plot\n",
    "fig = plt.figure(figsize=(10,5))\n",
    "ax1 = fig.add_subplot(121)\n",
    "\n",
    "\n",
    "im = ax1.imshow(state.createimage()/255, cmap = 'Greys_r')\n",
    "#im = ax1.imshow(state.createimage(), interpolation='none')\n",
    "ax2 = fig.add_subplot(122, aspect=100)\n",
    "line, = ax2.plot([],[])\n",
    "ax2.set_xlim(0,nt)\n",
    "ax2.set_ylim(-1,1)\n",
    "\n",
    "\n",
    "def do_mc_cycle(n):\n",
    "    e=0\n",
    "    \n",
    "    for k in range(length_cycle):\n",
    "        state.stoch_move(0.5)\n",
    "        print(\"bla\")\n",
    "        \n",
    "    \n",
    "    \n",
    "    \n",
    "    e += state.total_energy()\n",
    "    energsum +=e\n",
    "    nm +=1\n",
    "    \n",
    "    \n",
    "    im.set_array(state.createimage())\n",
    "    if len(meanenrg) < nt: meanenrg.append(energsum/nm)\n",
    "    if len(steps) < nt: steps.append(n)\n",
    "    else:\n",
    "        meanenrg.insert(nt, energsum/nm)\n",
    "        np.pop(0)\n",
    "\n",
    "    line.set_data(steps, meanenrg)\n",
    "    return (im, line)\n",
    "\n",
    "\n",
    "\n",
    "\n",
    "\n",
    "\n",
    "\n",
    "ani = animation.FuncAnimation(fig, do_mc_cycle, interval=1, blit=False)"
   ]
  },
  {
   "cell_type": "code",
   "execution_count": null,
   "metadata": {
    "scrolled": false
   },
   "outputs": [],
   "source": [
    "\n"
   ]
  },
  {
   "cell_type": "code",
   "execution_count": null,
   "metadata": {
    "scrolled": true
   },
   "outputs": [],
   "source": [
    "\n"
   ]
  },
  {
   "cell_type": "code",
   "execution_count": null,
   "metadata": {},
   "outputs": [],
   "source": []
  }
 ],
 "metadata": {
  "kernelspec": {
   "display_name": "Python 3",
   "language": "python",
   "name": "python3"
  },
  "language_info": {
   "codemirror_mode": {
    "name": "ipython",
    "version": 3
   },
   "file_extension": ".py",
   "mimetype": "text/x-python",
   "name": "python",
   "nbconvert_exporter": "python",
   "pygments_lexer": "ipython3",
   "version": "3.6.4"
  }
 },
=======
 "cells": [],
 "metadata": {},
>>>>>>> 793791ff96ac79836ea919d5da0668e12cf8d31f
 "nbformat": 4,
 "nbformat_minor": 2
}
