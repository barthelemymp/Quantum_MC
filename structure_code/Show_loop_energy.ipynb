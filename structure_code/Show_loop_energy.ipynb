{
 "cells": [
  {
   "cell_type": "markdown",
   "metadata": {},
   "source": [
    "# Compute mean energy for a chain of 100 spins\n",
    "\n",
    "This script computes the mean energy for a hundred-spin chain. \n",
    "We set $J_x = J_z = 1$, $n\\_spins = 100$. The algorithm is valid for $\\Delta \\tau \\rightarrow 0$,\n",
    "so we set $m\\_trotter = 20$ for the computation to be not too long. We choose $\\beta = 1$ by default. "
   ]
  },
  {
   "cell_type": "code",
   "execution_count": 2,
   "metadata": {},
   "outputs": [],
   "source": [
    "import loopclass as lp\n",
    "import numpy as np \n",
    "import matplotlib.pyplot as plt\n",
    "\n",
    "J_x = - 1.\n",
    "J_z = - 1.\n",
    "\n",
    "beta = 1.\n",
    "n_spins = 10\n",
    "m_trotter = 2\n",
    "dtau = m_trotter / beta\n",
    "\n",
    "loop = lp.Loop(m_trotter, dtau, n_spins, J_x, J_z)"
   ]
  },
  {
   "cell_type": "markdown",
   "metadata": {},
   "source": [
    "## Let us show the evolution of the configuration along the QMC"
   ]
  },
  {
   "cell_type": "code",
   "execution_count": 3,
   "metadata": {},
   "outputs": [],
   "source": [
    "%matplotlib tk\n",
    "import matplotlib.animation as animation\n",
    "\n",
    "\n",
    "\n",
    "fig = plt.figure(figsize = (10,5))\n",
    "ax1 = fig.add_subplot(111)\n",
    "line, = ax1.plot([], [])\n",
    "ax1.set_xlim(0,n_spins)\n",
    "ax1.set_ylim(-1,1)\n",
    "\n",
    "x = []\n",
    "energy = []\n",
    "n = 0\n",
    "\n",
    "def make_frame(i):\n",
    "    \n",
    "    global n\n",
    "    loop.QMC_step()\n",
    "    x.append(n)\n",
    "    n+=1\n",
    "    energy.append(loop.total_energy())\n",
    "    line.set_data(x, energy)\n",
    "    \n",
    "    return line,\n",
    "\n",
    "ani = animation.FuncAnimation(fig, make_frame, interval = 1, blit = False)\n",
    "    "
   ]
  },
  {
   "cell_type": "code",
   "execution_count": null,
   "metadata": {},
   "outputs": [],
   "source": []
  }
 ],
 "metadata": {
  "kernelspec": {
   "display_name": "Python 3",
   "language": "python",
   "name": "python3"
  },
  "language_info": {
   "codemirror_mode": {
    "name": "ipython",
    "version": 3
   },
   "file_extension": ".py",
   "mimetype": "text/x-python",
   "name": "python",
   "nbconvert_exporter": "python",
   "pygments_lexer": "ipython3",
   "version": "3.7.1"
  }
 },
 "nbformat": 4,
 "nbformat_minor": 2
}
