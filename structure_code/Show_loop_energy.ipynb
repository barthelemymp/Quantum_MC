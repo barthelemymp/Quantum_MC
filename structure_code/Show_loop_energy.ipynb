{
 "cells": [
  {
   "cell_type": "markdown",
   "metadata": {},
   "source": [
    "# Compute mean energy for a chain of 100 spins\n",
    "\n",
    "This script computes the mean energy for a hundred-spin chain. \n",
    "We set $J_x = J_z = 1$, $n\\_spins = 100$. The algorithm is valid for $\\Delta \\tau \\rightarrow 0$,\n",
    "so we set $m\\_trotter = 20$ for the computation to be not too long. We choose $\\beta = 1$ by default. "
   ]
  },
  {
   "cell_type": "code",
   "execution_count": 1,
   "metadata": {},
   "outputs": [],
   "source": [
    "import loopclass as lp\n",
    "import numpy as np \n",
    "import matplotlib.pyplot as plt\n",
    "\n",
    "J_x = - 1.\n",
    "J_z = - 1.\n",
    "\n",
    "beta = 1.\n",
    "n_spins = 10\n",
    "m_trotter = 2\n",
    "dtau = m_trotter / beta\n",
    "\n",
    "loop = lp.Loop(m_trotter, dtau, n_spins, J_x, J_z)\n",
    "\n",
    "length_cycle = 10\n",
    "n_warmup=100\n",
    "n_cycles = 200\n",
    "\n",
    "nt=200"
   ]
  },
  {
   "cell_type": "markdown",
   "metadata": {},
   "source": [
    "## Let us show the evolution of the configuration along the QMC"
   ]
  },
  {
   "cell_type": "code",
   "execution_count": 3,
   "metadata": {},
   "outputs": [],
   "source": [
    "%matplotlib tk\n",
    "import matplotlib.animation as animation\n",
    "\n",
    "energsum = 0\n",
    "energsum +=loop.total_energy()\n",
    "nm=1\n",
    "meanenrg = [loop.total_energy()]\n",
    "steps = [0]\n",
    "\n",
    "# init plot\n",
    "fig = plt.figure(figsize=(10,5))\n",
    "ax1 = fig.add_subplot(121)\n",
    "\n",
    "\n",
    "im = ax1.imshow(loop.createimage()/255, cmap = 'Greys_r')\n",
    "ax2 = fig.add_subplot(122, aspect=100)\n",
    "\n",
    "\n",
    "line, = ax2.plot([],[])\n",
    "ax2.set_xlim(0,nt)\n",
    "ax2.set_ylim(-4,1)\n",
    "\n",
    "\n",
    "def do_mc_cycle(n):\n",
    "    e=0\n",
    "    global energsum\n",
    "    global nm\n",
    "    for k in range(length_cycle):\n",
    "        loop.QMC_step()\n",
    "        \n",
    "    e += loop.total_energy()\n",
    "    energsum += e\n",
    "    nm +=1\n",
    "    \n",
    "    \n",
    "    \n",
    "    im.set_array(loop.createimage()/255)\n",
    "    if len(meanenrg) < nt: meanenrg.append(energsum/nm)\n",
    "    if len(steps) < nt:\n",
    "        steps.append(n)\n",
    "        \n",
    "        \n",
    "    else:\n",
    "        meanenrg.insert(nt, energsum/nm)\n",
    "        meanenrg.pop(0)\n",
    "\n",
    "    line.set_data(steps, meanenrg)\n",
    "    return (im, line)\n",
    "\n",
    "\n",
    "ani = animation.FuncAnimation(fig, do_mc_cycle, interval=1, blit=False)"
   ]
  },
  {
   "cell_type": "code",
   "execution_count": 4,
   "metadata": {},
   "outputs": [
    {
     "data": {
      "text/plain": [
       "-1.784782467867294"
      ]
     },
     "execution_count": 4,
     "metadata": {},
     "output_type": "execute_result"
    }
   ],
   "source": [
    "loop.total_energy()"
   ]
  },
  {
   "cell_type": "code",
   "execution_count": null,
   "metadata": {},
   "outputs": [],
   "source": []
  }
 ],
 "metadata": {
  "kernelspec": {
   "display_name": "Python 3",
   "language": "python",
   "name": "python3"
  },
  "language_info": {
   "codemirror_mode": {
    "name": "ipython",
    "version": 3
   },
   "file_extension": ".py",
   "mimetype": "text/x-python",
   "name": "python",
   "nbconvert_exporter": "python",
   "pygments_lexer": "ipython3",
   "version": "3.6.4"
  }
 },
 "nbformat": 4,
 "nbformat_minor": 2
}
