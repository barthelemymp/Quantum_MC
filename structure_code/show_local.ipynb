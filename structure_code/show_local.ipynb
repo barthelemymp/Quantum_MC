{
 "cells": [
  {
   "cell_type": "code",
   "execution_count": 1,
   "metadata": {},
   "outputs": [],
   "source": [
    "import numpy as np\n",
    "import numpy.random as rnd\n",
    "#import cv2\n",
    "import matplotlib.pyplot as plt\n",
    "import localclassnew as lc\n",
    "import matplotlib.animation as animation\n"
   ]
  },
  {
   "cell_type": "code",
   "execution_count": null,
   "metadata": {},
   "outputs": [],
   "source": []
  },
  {
   "cell_type": "code",
   "execution_count": null,
   "metadata": {},
   "outputs": [],
   "source": []
  },
  {
   "cell_type": "code",
   "execution_count": 30,
   "metadata": {},
   "outputs": [
    {
     "name": "stdout",
     "output_type": "stream",
     "text": [
      "ff\n"
     ]
    }
   ],
   "source": [
    "%matplotlib tk\n",
    "\n",
    "\n",
    "n_warmup=100\n",
    "n_cycles = 200\n",
    "length_cycle = 10\n",
    "\n",
    "m_trotter = 3\n",
    "dtau = 10/m_trotter\n",
    "n_spins = 4\n",
    "Jx =1 \n",
    "Jz = 1\n",
    "\n",
    "nt = 200\n",
    "\n",
    "\n",
    "state = lc.States(m_trotter, dtau, n_spins,Jx, Jz)\n",
    "i = state.animimage()\n",
    "print(\"ff\")\n",
    "for i in range(30):\n",
    "    state.stoch_move_forced(0.5)\n",
    "\n",
    "energsum = 0\n",
    "energsum +=state.total_energy()\n",
    "nm=1\n",
    "meanenrg = [state.total_energy()]\n",
    "steps = [0]\n",
    "err = [0.2]\n",
    "\n",
    "# init plot\n",
    "fig = plt.figure(figsize=(10,5))\n",
    "ax1 = fig.add_subplot(121)\n",
    "\n",
    "\n",
    "im = ax1.imshow(state.animimage()/255, cmap = 'Greys_r')\n",
    "#im = ax1.imshow(state.createimage(), interpolation='none')\n",
    "ax2 = fig.add_subplot(122, aspect=100)\n",
    "\n",
    "\n",
    "line, = ax2.plot([],[])\n",
    "ax2.set_xlim(0,nt)\n",
    "ax2.set_ylim(-4,1)\n",
    "\n",
    "\n",
    "def do_mc_cycle(n):\n",
    "    e=0\n",
    "    global energsum\n",
    "    global nm\n",
    "    for k in range(length_cycle):\n",
    "        state.stoch_move(0.5)\n",
    "        \n",
    "    e += state.total_energy()\n",
    "    energsum +=e\n",
    "    nm +=1\n",
    "    \n",
    "    \n",
    "    \n",
    "    im.set_array(state.animimage()/255)\n",
    "    #im = state.animimage()\n",
    "    if len(meanenrg) < nt: meanenrg.append(energsum/nm)\n",
    "    if len(steps) < nt:\n",
    "        steps.append(n)\n",
    "        err.append(0.2)\n",
    "        \n",
    "    else:\n",
    "        meanenrg.insert(nt, energsum/nm)\n",
    "        meanenrg.pop(0)\n",
    "\n",
    "    line.set_data(steps, meanenrg)\n",
    "    return (im, line)\n",
    "\n",
    "\n",
    "ani = animation.FuncAnimation(fig, do_mc_cycle, interval=1, blit=False)"
   ]
  },
  {
   "cell_type": "code",
   "execution_count": null,
   "metadata": {
    "scrolled": false
   },
   "outputs": [],
   "source": [
    "\n"
   ]
  }
 ],
 "metadata": {
  "kernelspec": {
   "display_name": "Python 3",
   "language": "python",
   "name": "python3"
  },
  "language_info": {
   "codemirror_mode": {
    "name": "ipython",
    "version": 3
   },
   "file_extension": ".py",
   "mimetype": "text/x-python",
   "name": "python",
   "nbconvert_exporter": "python",
   "pygments_lexer": "ipython3",
   "version": "3.6.4"
  }
 },
 "nbformat": 4,
 "nbformat_minor": 2
}
