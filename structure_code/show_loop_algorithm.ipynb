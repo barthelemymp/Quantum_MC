{
 "cells": [
  {
   "cell_type": "code",
   "execution_count": 2,
   "metadata": {},
   "outputs": [
    {
     "data": {
      "text/plain": [
       "<matplotlib.animation.FuncAnimation at 0x1d72d0c3748>"
      ]
     },
     "execution_count": 2,
     "metadata": {},
     "output_type": "execute_result"
    }
   ],
   "source": [
    "import loopclass as lp\n",
    "import numpy as np\n",
    "import matplotlib.pyplot as plt\n",
    "import matplotlib.animation as animation\n",
    "%matplotlib tk\n",
    "\n",
    "fig = plt.figure()\n",
    "fig_im = fig.add_subplot(121)\n",
    "fig_gr = fig.add_subplot(122)\n",
    "#fig_en = fig.add_subplot(412)\n",
    "\n",
    "\n",
    "x = np.array([0])\n",
    "energy = np.array([0])\n",
    "mean_energy = np.array([0])\n",
    "\n",
    "\n",
    "loop = lp.Loop(4, 2, 6, 1, 0.5)\n",
    "loop.QMC_step()\n",
    "\n",
    "\n",
    "im = fig_im.imshow(loop.createimage(), cmap = 'Greys_r')\n",
    "gr = fig_gr.imshow(loop.creategraph(), cmap = 'Greys_r')\n",
    "#en = fig_en.imshow(loop.spins)\n",
    "\n",
    "\n",
    "\n",
    "def make_frame(i):\n",
    "    #en.set_array(loop.spins)\n",
    "    if (i+1)%2:\n",
    "        loop.QMC_step()\n",
    "        im.set_array(loop.createimage())\n",
    "    else:\n",
    "        gr.set_array(loop.creategraph())\n",
    "    return im, gr\n",
    "\n",
    "animation.FuncAnimation(fig, make_frame, interval = 500)"
   ]
  },
  {
   "cell_type": "code",
   "execution_count": null,
   "metadata": {},
   "outputs": [],
   "source": []
  },
  {
   "cell_type": "code",
   "execution_count": null,
   "metadata": {},
   "outputs": [],
   "source": []
  }
 ],
 "metadata": {
  "kernelspec": {
   "display_name": "Python 3",
   "language": "python",
   "name": "python3"
  },
  "language_info": {
   "codemirror_mode": {
    "name": "ipython",
    "version": 3
   },
   "file_extension": ".py",
   "mimetype": "text/x-python",
   "name": "python",
   "nbconvert_exporter": "python",
   "pygments_lexer": "ipython3",
   "version": "3.6.4"
  }
 },
 "nbformat": 4,
 "nbformat_minor": 2
}
